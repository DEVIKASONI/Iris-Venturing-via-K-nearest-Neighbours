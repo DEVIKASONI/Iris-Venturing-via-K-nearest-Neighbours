{
  "nbformat": 4,
  "nbformat_minor": 0,
  "metadata": {
    "colab": {
      "name": "DEVIKA_SONI.ipynb",
      "provenance": [],
      "collapsed_sections": []
    },
    "kernelspec": {
      "name": "python3",
      "display_name": "Python 3"
    }
  },
  "cells": [
    {
      "cell_type": "markdown",
      "metadata": {
        "id": "LvqAw9GjXmT6"
      },
      "source": [
        "Making the imports"
      ]
    },
    {
      "cell_type": "code",
      "metadata": {
        "id": "qd93aw07BvHt"
      },
      "source": [
        "\n",
        "import numpy as np #so as to make our calculations easy\n",
        "import pandas as pd #to read our input data \n"
      ],
      "execution_count": null,
      "outputs": []
    },
    {
      "cell_type": "markdown",
      "metadata": {
        "id": "qyg-ktcLXLxz"
      },
      "source": [
        "Exploring the Data:"
      ]
    },
    {
      "cell_type": "code",
      "metadata": {
        "id": "l4GkHhTmR9J1",
        "colab": {
          "base_uri": "https://localhost:8080/",
          "height": 146
        },
        "outputId": "2d5b4b80-e70c-4d09-bba6-e8b96f68e0f6"
      },
      "source": [
        "from sklearn.datasets dataset import pd.read_csv('/content/sample_data/Churn_Modelling.csv')    #where sklearn is the framework of Machine learning \n",
        "                                         #load_iris is the function so induced \n",
        "churn_modeilling_datasets = load_churn_modeilling()               #It's the name of the dataset\n",
        "data = load_churn_modeilling()"
      ],
      "execution_count": null,
      "outputs": [
        {
          "output_type": "error",
          "ename": "SyntaxError",
          "evalue": "ignored",
          "traceback": [
            "\u001b[0;36m  File \u001b[0;32m\"<ipython-input-6-e13ddd7e7ef2>\"\u001b[0;36m, line \u001b[0;32m1\u001b[0m\n\u001b[0;31m    from sklearn.datasets dataset import pd.read_csv('/content/sample_data/Churn_Modelling.csv')    #where sklearn is the framework of Machine learning\u001b[0m\n\u001b[0m                                ^\u001b[0m\n\u001b[0;31mSyntaxError\u001b[0m\u001b[0;31m:\u001b[0m invalid syntax\n"
          ]
        }
      ]
    },
    {
      "cell_type": "code",
      "metadata": {
        "colab": {
          "base_uri": "https://localhost:8080/"
        },
        "id": "nKmEXj9fR-nU",
        "outputId": "b8a929c9-b6db-4696-ac93-6ebca96194b0"
      },
      "source": [
        "print(\"Keys of iris_datasets: \\n{}\" .format(iris_datasets.keys()))  #loaded data is in form of dictionary \n",
        "\n",
        "\n",
        "print(iris_datasets['DESCR'][:193] + \"\\n...\")  #calling the dictionary, here DESCR is the key\n",
        "\n",
        "                                             \n"
      ],
      "execution_count": null,
      "outputs": [
        {
          "output_type": "stream",
          "text": [
            "Keys of iris_datasets: \n",
            "dict_keys(['data', 'target', 'target_names', 'DESCR', 'feature_names', 'filename'])\n",
            ".. _iris_dataset:\n",
            "\n",
            "Iris plants dataset\n",
            "--------------------\n",
            "\n",
            "**Data Set Characteristics:**\n",
            "\n",
            "    :Number of Instances: 150 (50 in each of three classes)\n",
            "    :Number of Attributes: 4 numeric, pre\n",
            "...\n"
          ],
          "name": "stdout"
        }
      ]
    },
    {
      "cell_type": "markdown",
      "metadata": {
        "id": "j3E_tPdqYi05"
      },
      "source": [
        " List of strings, where each string represents the species in the dataset:"
      ]
    },
    {
      "cell_type": "code",
      "metadata": {
        "colab": {
          "base_uri": "https://localhost:8080/"
        },
        "id": "Xf30P4W9R-2c",
        "outputId": "3b193625-5d4d-41e0-9b84-18392cfbdae7"
      },
      "source": [
        "val= iris_datasets['DESCR']  #Using key \"DESCR\" - description of the flower from the dataset\n",
        "start_val=val[:200]\n",
        "print( start_val + \"\\n...\")"
      ],
      "execution_count": null,
      "outputs": [
        {
          "output_type": "stream",
          "text": [
            ".. _iris_dataset:\n",
            "\n",
            "Iris plants dataset\n",
            "--------------------\n",
            "\n",
            "**Data Set Characteristics:**\n",
            "\n",
            "    :Number of Instances: 150 (50 in each of three classes)\n",
            "    :Number of Attributes: 4 numeric, predictive\n",
            "...\n"
          ],
          "name": "stdout"
        }
      ]
    },
    {
      "cell_type": "markdown",
      "metadata": {
        "id": "ESOFuOajabKe"
      },
      "source": [
        "Using the key \"target name\" "
      ]
    },
    {
      "cell_type": "code",
      "metadata": {
        "colab": {
          "base_uri": "https://localhost:8080/"
        },
        "id": "du-S6EJdR_CZ",
        "outputId": "83c8e6e4-6509-43e5-dc68-3067267c765c"
      },
      "source": [
        "print(\"Target names:  {}\".format(iris_datasets['target_names']))"
      ],
      "execution_count": null,
      "outputs": [
        {
          "output_type": "stream",
          "text": [
            "Target names:  ['setosa' 'versicolor' 'virginica']\n"
          ],
          "name": "stdout"
        }
      ]
    },
    {
      "cell_type": "markdown",
      "metadata": {
        "id": "x5GYQYENdIWd"
      },
      "source": [
        "Using the key \"Feature name\" , it contains the 'sepal length','sepal width',petal length','petal width'"
      ]
    },
    {
      "cell_type": "code",
      "metadata": {
        "colab": {
          "base_uri": "https://localhost:8080/"
        },
        "id": "0GCM6KmCdH4I",
        "outputId": "7a59ac66-96ba-429f-8bd9-abc0d31cd536"
      },
      "source": [
        "print(\"Feature names: \\n{}\".format(iris_datasets['feature_names']))"
      ],
      "execution_count": null,
      "outputs": [
        {
          "output_type": "stream",
          "text": [
            "Feature names: \n",
            "['sepal length (cm)', 'sepal width (cm)', 'petal length (cm)', 'petal width (cm)']\n"
          ],
          "name": "stdout"
        }
      ]
    },
    {
      "cell_type": "markdown",
      "metadata": {
        "id": "C33Ij2KyeM67"
      },
      "source": [
        "Testification of the type of Data: Whether it's a list, tuple etc. "
      ]
    },
    {
      "cell_type": "code",
      "metadata": {
        "colab": {
          "base_uri": "https://localhost:8080/"
        },
        "id": "VphP-nZqeMLu",
        "outputId": "423fa0e8-9420-41e1-b1fe-9f2b8c0d2597"
      },
      "source": [
        "print(\"Type of Data: {}\".format(type(iris_datasets['data'])))"
      ],
      "execution_count": null,
      "outputs": [
        {
          "output_type": "stream",
          "text": [
            "Type of Data: <class 'numpy.ndarray'>\n"
          ],
          "name": "stdout"
        }
      ]
    },
    {
      "cell_type": "markdown",
      "metadata": {
        "id": "-0RQVXW3g9im"
      },
      "source": [
        "Testification of the shape(matrix based on the dataset)"
      ]
    },
    {
      "cell_type": "code",
      "metadata": {
        "colab": {
          "base_uri": "https://localhost:8080/"
        },
        "id": "2X9WJNIXg82V",
        "outputId": "15220fea-0e15-4c20-9278-2e47a29951b8"
      },
      "source": [
        "print(\"Shape of Data: {}\".format(iris_datasets['data'].shape))  #150 rows/150 instances of flowers(50 instances of each)\n",
        "                                                                #4 columns /4 attributes "
      ],
      "execution_count": null,
      "outputs": [
        {
          "output_type": "stream",
          "text": [
            "Shape of Data: (150, 4)\n"
          ],
          "name": "stdout"
        }
      ]
    },
    {
      "cell_type": "code",
      "metadata": {
        "colab": {
          "base_uri": "https://localhost:8080/"
        },
        "id": "OxCSShi4ktGM",
        "outputId": "9368a502-97d5-4e71-edc4-951877eda1ed"
      },
      "source": [
        "print(\"First five columns of data:\\n{}\".format(iris_datasets['data'][:5]))  #using slicing "
      ],
      "execution_count": null,
      "outputs": [
        {
          "output_type": "stream",
          "text": [
            "First five columns of data:\n",
            "[[5.1 3.5 1.4 0.2]\n",
            " [4.9 3.  1.4 0.2]\n",
            " [4.7 3.2 1.3 0.2]\n",
            " [4.6 3.1 1.5 0.2]\n",
            " [5.  3.6 1.4 0.2]]\n"
          ],
          "name": "stdout"
        }
      ]
    },
    {
      "cell_type": "markdown",
      "metadata": {
        "id": "guUZ2g-5lWr8"
      },
      "source": [
        "Introduction to numPy array: that is, the last key array containing the species of each of the flowers that were measured and it also has a numPy array.."
      ]
    },
    {
      "cell_type": "code",
      "metadata": {
        "colab": {
          "base_uri": "https://localhost:8080/"
        },
        "id": "JWnZsSppl1_l",
        "outputId": "239c09b0-1318-43af-a022-d3c70195efba"
      },
      "source": [
        "print(\"Types of target: {}\".format(type(iris_datasets['target'])))"
      ],
      "execution_count": null,
      "outputs": [
        {
          "output_type": "stream",
          "text": [
            "Types of target: <class 'numpy.ndarray'>\n"
          ],
          "name": "stdout"
        }
      ]
    },
    {
      "cell_type": "markdown",
      "metadata": {
        "id": "aQMs9Qczhn_Y"
      },
      "source": [
        "Target is the 1D array, now inducing the shape: "
      ]
    },
    {
      "cell_type": "code",
      "metadata": {
        "colab": {
          "base_uri": "https://localhost:8080/"
        },
        "id": "S0k6xbhlmUGD",
        "outputId": "3fb6ccc7-2be2-458b-d47c-148db78e478f"
      },
      "source": [
        "print(\"Shape of target: {}\".format(iris_datasets['target'].shape))"
      ],
      "execution_count": null,
      "outputs": [
        {
          "output_type": "stream",
          "text": [
            "Shape of target: (150,)\n"
          ],
          "name": "stdout"
        }
      ]
    },
    {
      "cell_type": "markdown",
      "metadata": {
        "id": "jwKQnx_9eL1J"
      },
      "source": [
        "Exploring more with the target and the shape: "
      ]
    },
    {
      "cell_type": "code",
      "metadata": {
        "colab": {
          "base_uri": "https://localhost:8080/"
        },
        "id": "rWCP4vKjnP0z",
        "outputId": "fe76d76c-76d5-4376-b54c-6f4ccdbdbf54"
      },
      "source": [
        "print(\"Target:\\n{}\".format(iris_datasets['target']))"
      ],
      "execution_count": null,
      "outputs": [
        {
          "output_type": "stream",
          "text": [
            "Target:\n",
            "[0 0 0 0 0 0 0 0 0 0 0 0 0 0 0 0 0 0 0 0 0 0 0 0 0 0 0 0 0 0 0 0 0 0 0 0 0\n",
            " 0 0 0 0 0 0 0 0 0 0 0 0 0 1 1 1 1 1 1 1 1 1 1 1 1 1 1 1 1 1 1 1 1 1 1 1 1\n",
            " 1 1 1 1 1 1 1 1 1 1 1 1 1 1 1 1 1 1 1 1 1 1 1 1 1 1 2 2 2 2 2 2 2 2 2 2 2\n",
            " 2 2 2 2 2 2 2 2 2 2 2 2 2 2 2 2 2 2 2 2 2 2 2 2 2 2 2 2 2 2 2 2 2 2 2 2 2\n",
            " 2 2]\n"
          ],
          "name": "stdout"
        }
      ]
    },
    {
      "cell_type": "markdown",
      "metadata": {
        "id": "zyYCLyj8hmzi"
      },
      "source": [
        "Now, splitting  the training and testing data:"
      ]
    },
    {
      "cell_type": "code",
      "metadata": {
        "id": "Klh0fSNdnqpa"
      },
      "source": [
        "from sklearn.model_selection import train_test_split  #train_test_split is the function used to split the data into by default(75% and 25%) traing and testing parts\n",
        "X_train,X_test,y_train,y_test = train_test_split(     #4 variables used where X stands for features/attributes of the width, length of the petal and sepal accordingly \n",
        "                                                      #y stands for the labels( 3 categories)\n",
        "                                                      #train_test_split, it returns the tuples\n",
        "    iris_datasets['data'],iris_datasets['target'], random_state=0  #random_state = all rows are arranged in a similar manner/rearrangement manner\n",
        ")     #PEP guidelinresss in python intacted. "
      ],
      "execution_count": null,
      "outputs": []
    },
    {
      "cell_type": "markdown",
      "metadata": {
        "id": "MZfpemoyphem"
      },
      "source": [
        "NP array part: "
      ]
    },
    {
      "cell_type": "code",
      "metadata": {
        "colab": {
          "base_uri": "https://localhost:8080/"
        },
        "id": "60uHMbyFtGdv",
        "outputId": "2313fc86-d511-4ddd-918b-4d266c2978be"
      },
      "source": [
        "print(\"X_train shape: {}\".format(X_train.shape))\n",
        "print(\"y_train shape: {}\".format(y_train.shape))\n",
        "print(\"X_test shape: {}\".format(X_test.shape))\n",
        "print(\"y_test shape: {}\".format(y_test.shape))"
      ],
      "execution_count": null,
      "outputs": [
        {
          "output_type": "stream",
          "text": [
            "X_train shape: (112, 4)\n",
            "y_train shape: (112,)\n",
            "X_test shape: (38, 4)\n",
            "y_test shape: (38,)\n"
          ],
          "name": "stdout"
        }
      ]
    },
    {
      "cell_type": "markdown",
      "metadata": {
        "id": "Hgg2Rv4buA-b"
      },
      "source": [
        "Now, making the model of K -Nearest neighbors : \n",
        "\n",
        "---\n",
        "\n"
      ]
    },
    {
      "cell_type": "code",
      "metadata": {
        "id": "hXv1rRuduYGl"
      },
      "source": [
        "from sklearn.neighbors import KNeighborsClassifier  #name of the model is KNeighborsClassifier\n",
        "knn = KNeighborsClassifier(n_neighbors=1)           #value of k= n_neighbor= 1"
      ],
      "execution_count": null,
      "outputs": []
    },
    {
      "cell_type": "markdown",
      "metadata": {
        "id": "5N_8_EG5vAWG"
      },
      "source": [
        "Training the model on the trained data : "
      ]
    },
    {
      "cell_type": "code",
      "metadata": {
        "colab": {
          "base_uri": "https://localhost:8080/",
          "height": 180
        },
        "id": "uui2T4SOpgZS",
        "outputId": "f1b462e2-01d9-4d23-dd3c-2feb3666544e"
      },
      "source": [
        "knn.fit(X_train,y_train) #knn.fit is the function or attribute of the knn classifier\n",
        "                         #arguments passed in the brackets "
      ],
      "execution_count": null,
      "outputs": [
        {
          "output_type": "error",
          "ename": "NameError",
          "evalue": "ignored",
          "traceback": [
            "\u001b[0;31m---------------------------------------------------------------------------\u001b[0m",
            "\u001b[0;31mNameError\u001b[0m                                 Traceback (most recent call last)",
            "\u001b[0;32m<ipython-input-2-52cb3d8ab704>\u001b[0m in \u001b[0;36m<module>\u001b[0;34m()\u001b[0m\n\u001b[0;32m----> 1\u001b[0;31m \u001b[0mknn\u001b[0m\u001b[0;34m.\u001b[0m\u001b[0mfit\u001b[0m\u001b[0;34m(\u001b[0m\u001b[0mX_train\u001b[0m\u001b[0;34m,\u001b[0m\u001b[0my_train\u001b[0m\u001b[0;34m)\u001b[0m \u001b[0;31m#knn.fit is the function or attribute of the knn classifier\u001b[0m\u001b[0;34m\u001b[0m\u001b[0;34m\u001b[0m\u001b[0m\n\u001b[0m\u001b[1;32m      2\u001b[0m                          \u001b[0;31m#arguments passed in the brackets\u001b[0m\u001b[0;34m\u001b[0m\u001b[0;34m\u001b[0m\u001b[0;34m\u001b[0m\u001b[0m\n",
            "\u001b[0;31mNameError\u001b[0m: name 'X_train' is not defined"
          ]
        }
      ]
    },
    {
      "cell_type": "markdown",
      "metadata": {
        "id": "3oxJ5Bi9dHSs"
      },
      "source": [
        "Ending of the training part!"
      ]
    },
    {
      "cell_type": "markdown",
      "metadata": {
        "id": "EqamVP0Av-gv"
      },
      "source": [
        "Predictions: Testing on the a single datapoint from the dataset. "
      ]
    },
    {
      "cell_type": "code",
      "metadata": {
        "colab": {
          "base_uri": "https://localhost:8080/"
        },
        "id": "1W3sdaATwJk7",
        "outputId": "9dd863cf-debd-4a58-b3d5-463104cf866b"
      },
      "source": [
        "X_new=np.array([[5,2.9,1,0.2]])   #2 dimensional datapoint passed, alas double paranthesis \n",
        "print(\"X_new.shape: {}\".format(X_new.shape))"
      ],
      "execution_count": null,
      "outputs": [
        {
          "output_type": "stream",
          "text": [
            "X_new.shape: (1, 4)\n"
          ],
          "name": "stdout"
        }
      ]
    },
    {
      "cell_type": "code",
      "metadata": {
        "colab": {
          "base_uri": "https://localhost:8080/"
        },
        "id": "rdQZEmC9wLNU",
        "outputId": "be9175f1-faa1-4c3f-cac4-fc41fc6e72d8"
      },
      "source": [
        "prediction = knn.predict(X_new)\n",
        "print(\"Prediction: {}\".format(prediction))\n",
        "print(\"Predicted target name: {}\".format(iris_datasets['target_names'][prediction]))\n",
        "\n"
      ],
      "execution_count": null,
      "outputs": [
        {
          "output_type": "stream",
          "text": [
            "Prediction: [0]\n",
            "Predicted target name: ['setosa']\n"
          ],
          "name": "stdout"
        }
      ]
    },
    {
      "cell_type": "markdown",
      "metadata": {
        "id": "qQ3cNUPwzTuj"
      },
      "source": [
        "Evaluating section: \n",
        "Now, testing is done on the tested dataset: "
      ]
    },
    {
      "cell_type": "code",
      "metadata": {
        "colab": {
          "base_uri": "https://localhost:8080/"
        },
        "id": "SkAJ1Rzlzix9",
        "outputId": "60283a11-4256-4471-ad35-0b8378ad250f"
      },
      "source": [
        "y_pred = knn.predict(X_test) #y_pred stands for the predicted values of y of the model \n",
        "                             #X_test : 2D NDarray\n",
        "print(\"Test set predictions: \\n{}\".format(y_pred))"
      ],
      "execution_count": null,
      "outputs": [
        {
          "output_type": "stream",
          "text": [
            "Test set predictions: \n",
            "[2 1 0 2 0 2 0 1 1 1 2 1 1 1 1 0 1 1 0 0 2 1 0 0 2 0 0 1 1 0 2 1 0 2 2 1 0\n",
            " 2]\n"
          ],
          "name": "stdout"
        }
      ]
    },
    {
      "cell_type": "markdown",
      "metadata": {
        "id": "xA9IZRZ_1azU"
      },
      "source": [
        "To check whether the predicted values is correct or wrong: "
      ]
    },
    {
      "cell_type": "code",
      "metadata": {
        "colab": {
          "base_uri": "https://localhost:8080/"
        },
        "id": "o2r1H2aXzjEI",
        "outputId": "0ff90ae5-e00e-45dc-be9d-c32fc666dafa"
      },
      "source": [
        "print(\"Test set score: {}\".format(np.mean(y_pred == y_test)))  #y_pred = model values of data point\n",
        "                                                               #y_test = actual values of test dataset \n",
        "                                                               #if y_pred == y_test then, 1(true) else 0(false)\n",
        "                                                               #final output would give the accuracy of the model \n"
      ],
      "execution_count": null,
      "outputs": [
        {
          "output_type": "stream",
          "text": [
            "Test set score: 0.9736842105263158\n"
          ],
          "name": "stdout"
        }
      ]
    }
  ]
}